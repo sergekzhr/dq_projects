{
 "cells": [
  {
   "cell_type": "markdown",
   "metadata": {},
   "source": [
    "# Research on profiles of free mobile apps"
   ]
  },
  {
   "cell_type": "markdown",
   "metadata": {},
   "source": [
    "## 1. Introduction"
   ]
  },
  {
   "cell_type": "markdown",
   "metadata": {},
   "source": [
    "* To enter a market with new mobile apps it seems beneficial to perform research under data from two the most popular stores.\n",
    "* The main goal is to determine which types of _free_ apps are likely to attract more users of Google Play and the App Store.\n",
    "\n",
    "Fortunately, there are two available datasets on Kaggle:\n",
    "* [Apple Store dataset documentation](https://www.kaggle.com/ramamet4/app-store-apple-data-set-10k-apps)\n",
    "* [Google Play dataset documentation](https://www.kaggle.com/lava18/google-play-store-apps)\n",
    "\n",
    "Let's open them and convert to a list of lists:"
   ]
  },
  {
   "cell_type": "code",
   "execution_count": 2,
   "metadata": {},
   "outputs": [],
   "source": [
    "def csv_to_list(csv_file):\n",
    "    opened_file = open(csv_file)\n",
    "    from csv import reader\n",
    "    read_file = reader(opened_file)\n",
    "    dataset = list(read_file)\n",
    "    opened_file.close()\n",
    "    return dataset\n",
    "\n",
    "ios = csv_to_list('./AppleStore.csv')\n",
    "android = csv_to_list('./googleplaystore.csv')"
   ]
  },
  {
   "cell_type": "markdown",
   "metadata": {},
   "source": [
    "Let's create a function for easy exploration of the datasets:"
   ]
  },
  {
   "cell_type": "code",
   "execution_count": 4,
   "metadata": {},
   "outputs": [],
   "source": [
    "def explore_data(dataset, start, end, rows_and_columns=False):\n",
    "    dataset_slice = dataset[start:end]    \n",
    "    for row in dataset_slice:\n",
    "        print(row)\n",
    "        print('\\n') # adds a new (empty) line after each row\n",
    "\n",
    "    if rows_and_columns:\n",
    "        print('Number of rows:', len(dataset))\n",
    "        print('Number of columns:', len(dataset[0]))"
   ]
  },
  {
   "cell_type": "code",
   "execution_count": 100,
   "metadata": {},
   "outputs": [
    {
     "name": "stdout",
     "output_type": "stream",
     "text": [
      "['App', 'Category', 'Rating', 'Reviews', 'Size', 'Installs', 'Type', 'Price', 'Content Rating', 'Genres', 'Last Updated', 'Current Ver', 'Android Ver']\n",
      "\n",
      "\n",
      "['Photo Editor & Candy Camera & Grid & ScrapBook', 'ART_AND_DESIGN', '4.1', '159', '19M', '10,000+', 'Free', '0', 'Everyone', 'Art & Design', 'January 7, 2018', '1.0.0', '4.0.3 and up']\n",
      "\n",
      "\n",
      "['Coloring book moana', 'ART_AND_DESIGN', '3.9', '967', '14M', '500,000+', 'Free', '0', 'Everyone', 'Art & Design;Pretend Play', 'January 15, 2018', '2.0.0', '4.0.3 and up']\n",
      "\n",
      "\n",
      "Number of rows: 10842\n",
      "Number of columns: 13\n"
     ]
    }
   ],
   "source": [
    "explore_data(android, 0, 3, True)"
   ]
  },
  {
   "cell_type": "code",
   "execution_count": 144,
   "metadata": {},
   "outputs": [
    {
     "name": "stdout",
     "output_type": "stream",
     "text": [
      "['id', 'track_name', 'size_bytes', 'currency', 'price', 'rating_count_tot', 'rating_count_ver', 'user_rating', 'user_rating_ver', 'ver', 'cont_rating', 'prime_genre', 'sup_devices.num', 'ipadSc_urls.num', 'lang.num', 'vpp_lic']\n",
      "\n",
      "\n",
      "['284882215', 'Facebook', '389879808', 'USD', '0.0', '2974676', '212', '3.5', '3.5', '95.0', '4+', 'Social Networking', '37', '1', '29', '1']\n",
      "\n",
      "\n",
      "['389801252', 'Instagram', '113954816', 'USD', '0.0', '2161558', '1289', '4.5', '4.0', '10.23', '12+', 'Photo & Video', '37', '0', '29', '1']\n",
      "\n",
      "\n",
      "Number of rows: 7198\n",
      "Number of columns: 16\n"
     ]
    }
   ],
   "source": [
    "explore_data(ios, 0, 3, True)"
   ]
  },
  {
   "cell_type": "markdown",
   "metadata": {},
   "source": [
    "## 2. Data cleaning"
   ]
  },
  {
   "cell_type": "markdown",
   "metadata": {},
   "source": [
    "### 2.1 Remove headers, inaccurate data and duplicates"
   ]
  },
  {
   "cell_type": "markdown",
   "metadata": {},
   "source": [
    "#### 2.1.1 Android"
   ]
  },
  {
   "cell_type": "markdown",
   "metadata": {},
   "source": [
    "Firstly, for further cleaning procedures decided to remove header:"
   ]
  },
  {
   "cell_type": "code",
   "execution_count": 70,
   "metadata": {},
   "outputs": [],
   "source": [
    "android_clean = android[1:]"
   ]
  },
  {
   "cell_type": "markdown",
   "metadata": {},
   "source": [
    "Secondly, one row doesn't have value \"Category\". [Kaggle's discussion about it.](https://www.kaggle.com/lava18/google-play-store-apps/discussion/66015)"
   ]
  },
  {
   "cell_type": "raw",
   "metadata": {},
   "source": [
    "['Life Made WI-Fi Touchscreen Photo Frame',\n",
    " '1.9',\n",
    " '19',\n",
    " '3.0M',\n",
    " '1,000+',\n",
    " 'Free',\n",
    " '0',\n",
    " 'Everyone',\n",
    " '',\n",
    " 'February 11, 2018',\n",
    " '1.0.19',\n",
    " '4.0 and up']"
   ]
  },
  {
   "cell_type": "markdown",
   "metadata": {},
   "source": [
    "Decided to delete this row:"
   ]
  },
  {
   "cell_type": "code",
   "execution_count": 77,
   "metadata": {},
   "outputs": [],
   "source": [
    "del android_clean[10472]"
   ]
  },
  {
   "cell_type": "markdown",
   "metadata": {},
   "source": [
    "Some apps have multiple entries in the dataset."
   ]
  },
  {
   "cell_type": "code",
   "execution_count": 79,
   "metadata": {},
   "outputs": [
    {
     "name": "stdout",
     "output_type": "stream",
     "text": [
      "Number of doubled names:  1181\n",
      "Examples:  ['Quick PDF Scanner + OCR FREE', 'Box', 'Google My Business', 'ZOOM Cloud Meetings', 'join.me - Simple Meetings', 'Box', 'Zenefits', 'Google Ads', 'Google My Business', 'Slack']\n"
     ]
    }
   ],
   "source": [
    "unique_names = []\n",
    "doubled_names = []\n",
    "\n",
    "for row in android_clean:\n",
    "    name = row[0]\n",
    "    if name in unique_names:\n",
    "        doubled_names.append(name)\n",
    "    else:\n",
    "        unique_names.append(name)\n",
    "        \n",
    "print('Number of doubled names: ', len(doubled_names))\n",
    "print('Examples: ', doubled_names[:10])"
   ]
  },
  {
   "cell_type": "markdown",
   "metadata": {},
   "source": [
    "Example:"
   ]
  },
  {
   "cell_type": "code",
   "execution_count": 80,
   "metadata": {},
   "outputs": [
    {
     "name": "stdout",
     "output_type": "stream",
     "text": [
      "['Slack', 'BUSINESS', '4.4', '51507', 'Varies with device', '5,000,000+', 'Free', '0', 'Everyone', 'Business', 'August 2, 2018', 'Varies with device', 'Varies with device']\n",
      "['Slack', 'BUSINESS', '4.4', '51507', 'Varies with device', '5,000,000+', 'Free', '0', 'Everyone', 'Business', 'August 2, 2018', 'Varies with device', 'Varies with device']\n",
      "['Slack', 'BUSINESS', '4.4', '51510', 'Varies with device', '5,000,000+', 'Free', '0', 'Everyone', 'Business', 'August 2, 2018', 'Varies with device', 'Varies with device']\n"
     ]
    }
   ],
   "source": [
    "for row in android_clean:\n",
    "    name = row[0]\n",
    "    if name == 'Slack':\n",
    "        print(row)"
   ]
  },
  {
   "cell_type": "markdown",
   "metadata": {},
   "source": [
    "To determine the most actual record for each app could be used columns: `'Reviews', 'Installs', 'Last Updated', 'Current Ver', 'Android Ver'`.\n",
    "\n",
    "In the example above only `'Reviews'` is changing among records, so let's use the biggest number in this column.\n",
    "\n",
    "Firstly, let's find the maximum number of reviews for each of the apps:"
   ]
  },
  {
   "cell_type": "code",
   "execution_count": 82,
   "metadata": {},
   "outputs": [],
   "source": [
    "reviews_max = {}\n",
    "\n",
    "for row in android_clean:\n",
    "    name = row[0]\n",
    "    n_reviews = int(row[3])\n",
    "    if name not in reviews_max:\n",
    "        reviews_max[name] = n_reviews\n",
    "    elif name in reviews_max and reviews_max[name] < n_reviews:\n",
    "        reviews_max[name] = n_reviews      "
   ]
  },
  {
   "cell_type": "markdown",
   "metadata": {},
   "source": [
    "I found a value for each app:"
   ]
  },
  {
   "cell_type": "code",
   "execution_count": 83,
   "metadata": {},
   "outputs": [
    {
     "data": {
      "text/plain": [
       "True"
      ]
     },
     "execution_count": 83,
     "metadata": {},
     "output_type": "execute_result"
    }
   ],
   "source": [
    "len(reviews_max) == len(unique_names)"
   ]
  },
  {
   "cell_type": "markdown",
   "metadata": {},
   "source": [
    "Secondly, based on information from `reviews_max` let's create new dataset `android_unique` without doubled applications:"
   ]
  },
  {
   "cell_type": "code",
   "execution_count": 84,
   "metadata": {},
   "outputs": [],
   "source": [
    "android_unique = []\n",
    "already_added = []\n",
    "\n",
    "for row in android_clean:\n",
    "    name = row[0]\n",
    "    n_reviews = int(row[3])\n",
    "    if name not in already_added and n_reviews == reviews_max[name]:\n",
    "        android_unique.append(row)\n",
    "        already_added.append(name)"
   ]
  },
  {
   "cell_type": "markdown",
   "metadata": {},
   "source": [
    "#### 2.1.2 iOS"
   ]
  },
  {
   "cell_type": "markdown",
   "metadata": {},
   "source": [
    "Remove header for further data cleaning:"
   ]
  },
  {
   "cell_type": "code",
   "execution_count": 78,
   "metadata": {},
   "outputs": [],
   "source": [
    "ios_clean = ios[1:]"
   ]
  },
  {
   "cell_type": "markdown",
   "metadata": {},
   "source": [
    "There are two apps with non-unique names in the dataset: **Mannequin Challenge** and **VR Roller Coaster**.\n",
    "However, it was defined that these are unique apps. [Kaggle discussion](https://www.kaggle.com/ramamet4/app-store-apple-data-set-10k-apps/discussion/90409)"
   ]
  },
  {
   "cell_type": "markdown",
   "metadata": {},
   "source": [
    "### 2.2 Remove non-English apps"
   ]
  },
  {
   "cell_type": "markdown",
   "metadata": {},
   "source": [
    "We want to focus only on the English-speaking market, so I decided to delete all non-English apps from the datasets.\n",
    "\n",
    "To determine if an app is English or not I will check its name. \n",
    "1. If the name contains more than 3 non-English symbols.\n",
    "1. If the Unicode code of a symbol is more than 127, this is a non-English symbol."
   ]
  },
  {
   "cell_type": "code",
   "execution_count": 51,
   "metadata": {},
   "outputs": [],
   "source": [
    "def is_english_app(name):\n",
    "    non_eng_symbols = 0\n",
    "    for symbol in name:\n",
    "        if ord(symbol) <= 127:\n",
    "            continue\n",
    "        elif non_eng_symbols < 3:\n",
    "            non_eng_symbols += 1\n",
    "        else:\n",
    "            return False\n",
    "    return True\n",
    "\n",
    "def remove_non_eng(dataset, name_index):\n",
    "    dataset_eng = []\n",
    "    for row in dataset:\n",
    "        name = row[name_index]\n",
    "        if is_english_app(name):\n",
    "            dataset_eng.append(row)\n",
    "    return dataset_eng\n",
    "\n",
    "android_eng = remove_non_eng(android_unique, 0)\n",
    "print('Number of the english apps in the Android dataset: ', len(android_eng))\n",
    "\n",
    "ios_eng = remove_non_eng(ios_clean, 1)\n",
    "print('Number of the english apps in the iOS dataset: ', len(ios_eng))"
   ]
  },
  {
   "cell_type": "markdown",
   "metadata": {},
   "source": [
    "### 2.3 Isolate the free apps"
   ]
  },
  {
   "cell_type": "markdown",
   "metadata": {},
   "source": [
    "We want to create free applications and monetize them via in-built ads, so I'm going to leave only those apps which have a price is equal to zero."
   ]
  },
  {
   "cell_type": "code",
   "execution_count": 97,
   "metadata": {},
   "outputs": [],
   "source": [
    "def remove_non_free(dataset, price_index):\n",
    "    dataset_free = []\n",
    "    for row in dataset:\n",
    "        price = float(row[price_index].replace('$', ''))\n",
    "        if price == 0.0:\n",
    "            dataset_free.append(row)\n",
    "    return dataset_free\n",
    "\n",
    "android_free = remove_non_free(android_eng, 7)\n",
    "print('Number of free apps in the Android dataset: ', len(android_free))\n",
    "\n",
    "ios_free = remove_non_free(ios_eng, 4)\n",
    "print('Number of free apps in the iOS dataset: ', len(ios_free))"
   ]
  },
  {
   "cell_type": "markdown",
   "metadata": {},
   "source": [
    "## 3. Analysis"
   ]
  },
  {
   "cell_type": "markdown",
   "metadata": {},
   "source": [
    "### 3.1 Introduction"
   ]
  },
  {
   "cell_type": "markdown",
   "metadata": {},
   "source": [
    "The overall goal is to build up a successful mobile application for Google Play and App Store. That is why we need to define profiles of applications that are widely represented and popular on both platforms.\n",
    "\n",
    "To find out the most popular genres we could use the following columns:\n",
    "- Android\n",
    "  - `'Category'`\n",
    "  - `'Genres'`\n",
    "- iOS\n",
    "  - `'prime_genre'`"
   ]
  },
  {
   "cell_type": "markdown",
   "metadata": {},
   "source": [
    "### 3.2 Frequency for a genre"
   ]
  },
  {
   "cell_type": "code",
   "execution_count": 105,
   "metadata": {},
   "outputs": [],
   "source": [
    "def freq_table(dataset, index):\n",
    "    freq_value = {}\n",
    "    \n",
    "    for row in dataset:\n",
    "        value = row[index]\n",
    "        if value in freq_value:\n",
    "            freq_value[value] += 1\n",
    "        else:\n",
    "            freq_value[value] = 1\n",
    "            \n",
    "    freq_value_percent = {}\n",
    "    total_values = len(dataset)\n",
    "    \n",
    "    for key in freq_value:\n",
    "        percentage = freq_value[key] / total_values * 100\n",
    "        freq_value_percent[key] = percentage\n",
    "        \n",
    "    return freq_value_percent"
   ]
  },
  {
   "cell_type": "markdown",
   "metadata": {},
   "source": [
    "A function for printing a frequency table in order from the most frequent to the less:"
   ]
  },
  {
   "cell_type": "code",
   "execution_count": 122,
   "metadata": {},
   "outputs": [],
   "source": [
    "def display_table(table):\n",
    "    table_display = []\n",
    "    for key in table:\n",
    "        key_val_as_tuple = (table[key], key)\n",
    "        table_display.append(key_val_as_tuple)\n",
    "\n",
    "    table_sorted = sorted(table_display, reverse = True)\n",
    "    for entry in table_sorted:\n",
    "        print(entry[1], ':', entry[0])"
   ]
  },
  {
   "cell_type": "code",
   "execution_count": 123,
   "metadata": {},
   "outputs": [
    {
     "name": "stdout",
     "output_type": "stream",
     "text": [
      "FAMILY : 18.907942238267147\n",
      "GAME : 9.724729241877256\n",
      "TOOLS : 8.461191335740072\n",
      "BUSINESS : 4.591606498194946\n",
      "LIFESTYLE : 3.9034296028880866\n",
      "PRODUCTIVITY : 3.892148014440433\n",
      "FINANCE : 3.7003610108303246\n",
      "MEDICAL : 3.531137184115524\n",
      "SPORTS : 3.395758122743682\n",
      "PERSONALIZATION : 3.3167870036101084\n",
      "COMMUNICATION : 3.2378158844765346\n",
      "HEALTH_AND_FITNESS : 3.0798736462093865\n",
      "PHOTOGRAPHY : 2.944494584837545\n",
      "NEWS_AND_MAGAZINES : 2.7978339350180503\n",
      "SOCIAL : 2.6624548736462095\n",
      "TRAVEL_AND_LOCAL : 2.33528880866426\n",
      "SHOPPING : 2.2450361010830324\n",
      "BOOKS_AND_REFERENCE : 2.1435018050541514\n",
      "DATING : 1.861462093862816\n",
      "VIDEO_PLAYERS : 1.7937725631768955\n",
      "MAPS_AND_NAVIGATION : 1.3989169675090252\n",
      "FOOD_AND_DRINK : 1.2409747292418771\n",
      "EDUCATION : 1.1620036101083033\n",
      "ENTERTAINMENT : 0.9589350180505415\n",
      "LIBRARIES_AND_DEMO : 0.9363718411552346\n",
      "AUTO_AND_VEHICLES : 0.9250902527075812\n",
      "HOUSE_AND_HOME : 0.8235559566787004\n",
      "WEATHER : 0.8009927797833934\n",
      "EVENTS : 0.7107400722021661\n",
      "PARENTING : 0.6543321299638989\n",
      "ART_AND_DESIGN : 0.6430505415162455\n",
      "COMICS : 0.6204873646209386\n",
      "BEAUTY : 0.5979241877256317\n"
     ]
    }
   ],
   "source": [
    "display_table(freq_table(android_free, 1))"
   ]
  },
  {
   "cell_type": "code",
   "execution_count": 124,
   "metadata": {},
   "outputs": [
    {
     "name": "stdout",
     "output_type": "stream",
     "text": [
      "Tools : 8.449909747292418\n",
      "Entertainment : 6.069494584837545\n",
      "Education : 5.347472924187725\n",
      "Business : 4.591606498194946\n",
      "Productivity : 3.892148014440433\n",
      "Lifestyle : 3.892148014440433\n",
      "Finance : 3.7003610108303246\n",
      "Medical : 3.531137184115524\n",
      "Sports : 3.463447653429603\n",
      "Personalization : 3.3167870036101084\n",
      "Communication : 3.2378158844765346\n",
      "Action : 3.1024368231046933\n",
      "Health & Fitness : 3.0798736462093865\n",
      "Photography : 2.944494584837545\n",
      "News & Magazines : 2.7978339350180503\n",
      "Social : 2.6624548736462095\n",
      "Travel & Local : 2.3240072202166067\n",
      "Shopping : 2.2450361010830324\n",
      "Books & Reference : 2.1435018050541514\n",
      "Simulation : 2.0419675090252705\n",
      "Dating : 1.861462093862816\n",
      "Arcade : 1.8501805054151623\n",
      "Video Players & Editors : 1.7712093862815883\n",
      "Casual : 1.7599277978339352\n",
      "Maps & Navigation : 1.3989169675090252\n",
      "Food & Drink : 1.2409747292418771\n",
      "Puzzle : 1.128158844765343\n",
      "Racing : 0.9927797833935018\n",
      "Role Playing : 0.9363718411552346\n",
      "Libraries & Demo : 0.9363718411552346\n",
      "Auto & Vehicles : 0.9250902527075812\n",
      "Strategy : 0.9138086642599278\n",
      "House & Home : 0.8235559566787004\n",
      "Weather : 0.8009927797833934\n",
      "Events : 0.7107400722021661\n",
      "Adventure : 0.6768953068592057\n",
      "Comics : 0.6092057761732852\n",
      "Beauty : 0.5979241877256317\n",
      "Art & Design : 0.5979241877256317\n",
      "Parenting : 0.4963898916967509\n",
      "Card : 0.45126353790613716\n",
      "Casino : 0.42870036101083037\n",
      "Trivia : 0.41741877256317694\n",
      "Educational;Education : 0.39485559566787\n",
      "Board : 0.3835740072202166\n",
      "Educational : 0.3722924187725632\n",
      "Education;Education : 0.33844765342960287\n",
      "Word : 0.2594765342960289\n",
      "Casual;Pretend Play : 0.236913357400722\n",
      "Music : 0.2030685920577617\n",
      "Racing;Action & Adventure : 0.16922382671480143\n",
      "Puzzle;Brain Games : 0.16922382671480143\n",
      "Entertainment;Music & Video : 0.16922382671480143\n",
      "Casual;Brain Games : 0.13537906137184114\n",
      "Casual;Action & Adventure : 0.13537906137184114\n",
      "Arcade;Action & Adventure : 0.12409747292418773\n",
      "Action;Action & Adventure : 0.10153429602888085\n",
      "Educational;Pretend Play : 0.09025270758122744\n",
      "Simulation;Action & Adventure : 0.078971119133574\n",
      "Parenting;Education : 0.078971119133574\n",
      "Entertainment;Brain Games : 0.078971119133574\n",
      "Board;Brain Games : 0.078971119133574\n",
      "Parenting;Music & Video : 0.06768953068592057\n",
      "Educational;Brain Games : 0.06768953068592057\n",
      "Casual;Creativity : 0.06768953068592057\n",
      "Art & Design;Creativity : 0.06768953068592057\n",
      "Education;Pretend Play : 0.056407942238267145\n",
      "Role Playing;Pretend Play : 0.04512635379061372\n",
      "Education;Creativity : 0.04512635379061372\n",
      "Role Playing;Action & Adventure : 0.033844765342960284\n",
      "Puzzle;Action & Adventure : 0.033844765342960284\n",
      "Entertainment;Creativity : 0.033844765342960284\n",
      "Entertainment;Action & Adventure : 0.033844765342960284\n",
      "Educational;Creativity : 0.033844765342960284\n",
      "Educational;Action & Adventure : 0.033844765342960284\n",
      "Education;Music & Video : 0.033844765342960284\n",
      "Education;Brain Games : 0.033844765342960284\n",
      "Education;Action & Adventure : 0.033844765342960284\n",
      "Adventure;Action & Adventure : 0.033844765342960284\n",
      "Video Players & Editors;Music & Video : 0.02256317689530686\n",
      "Sports;Action & Adventure : 0.02256317689530686\n",
      "Simulation;Pretend Play : 0.02256317689530686\n",
      "Puzzle;Creativity : 0.02256317689530686\n",
      "Music;Music & Video : 0.02256317689530686\n",
      "Entertainment;Pretend Play : 0.02256317689530686\n",
      "Casual;Education : 0.02256317689530686\n",
      "Board;Action & Adventure : 0.02256317689530686\n",
      "Video Players & Editors;Creativity : 0.01128158844765343\n",
      "Trivia;Education : 0.01128158844765343\n",
      "Travel & Local;Action & Adventure : 0.01128158844765343\n",
      "Tools;Education : 0.01128158844765343\n",
      "Strategy;Education : 0.01128158844765343\n",
      "Strategy;Creativity : 0.01128158844765343\n",
      "Strategy;Action & Adventure : 0.01128158844765343\n",
      "Simulation;Education : 0.01128158844765343\n",
      "Role Playing;Brain Games : 0.01128158844765343\n",
      "Racing;Pretend Play : 0.01128158844765343\n",
      "Puzzle;Education : 0.01128158844765343\n",
      "Parenting;Brain Games : 0.01128158844765343\n",
      "Music & Audio;Music & Video : 0.01128158844765343\n",
      "Lifestyle;Pretend Play : 0.01128158844765343\n",
      "Lifestyle;Education : 0.01128158844765343\n",
      "Health & Fitness;Education : 0.01128158844765343\n",
      "Health & Fitness;Action & Adventure : 0.01128158844765343\n",
      "Entertainment;Education : 0.01128158844765343\n",
      "Communication;Creativity : 0.01128158844765343\n",
      "Comics;Creativity : 0.01128158844765343\n",
      "Casual;Music & Video : 0.01128158844765343\n",
      "Card;Action & Adventure : 0.01128158844765343\n",
      "Books & Reference;Education : 0.01128158844765343\n",
      "Art & Design;Pretend Play : 0.01128158844765343\n",
      "Art & Design;Action & Adventure : 0.01128158844765343\n",
      "Arcade;Pretend Play : 0.01128158844765343\n",
      "Adventure;Education : 0.01128158844765343\n"
     ]
    }
   ],
   "source": [
    "display_table(freq_table(android_free, 9))"
   ]
  },
  {
   "cell_type": "code",
   "execution_count": 125,
   "metadata": {},
   "outputs": [
    {
     "name": "stdout",
     "output_type": "stream",
     "text": [
      "Games : 58.16263190564867\n",
      "Entertainment : 7.883302296710118\n",
      "Photo & Video : 4.9658597144630665\n",
      "Education : 3.662321539416512\n",
      "Social Networking : 3.2898820608317814\n",
      "Shopping : 2.60707635009311\n",
      "Utilities : 2.5139664804469275\n",
      "Sports : 2.1415270018621975\n",
      "Music : 2.0484171322160147\n",
      "Health & Fitness : 2.0173805090006205\n",
      "Productivity : 1.7380509000620732\n",
      "Lifestyle : 1.5828677839851024\n",
      "News : 1.3345747982619491\n",
      "Travel : 1.2414649286157666\n",
      "Finance : 1.1173184357541899\n",
      "Weather : 0.8690254500310366\n",
      "Food & Drink : 0.8069522036002483\n",
      "Reference : 0.5586592178770949\n",
      "Business : 0.5276225946617008\n",
      "Book : 0.4345127250155183\n",
      "Navigation : 0.186219739292365\n",
      "Medical : 0.186219739292365\n",
      "Catalogs : 0.12414649286157665\n"
     ]
    }
   ],
   "source": [
    "display_table(freq_table(ios_free, 11))"
   ]
  },
  {
   "cell_type": "markdown",
   "metadata": {},
   "source": [
    "**Important notice:**\n",
    "The analysis above was performed under cleaned datasets which contain only *free* apps, created for *English-speaking auditory*.\n",
    "\n",
    "##### Apple Store\n",
    "\n",
    "1. From the Apple Store genre frequency table, we see that more than half of applications here are games (\\~58%). The second most popular genre is close to the games - Entertainment (\\~8%)\n",
    "2. A lot of genres keep a small share from 1% to 5%.\n",
    "3. In the top 10 genres, 7 are about entertainment.\n",
    "\n",
    "The outcome: it seems like entertainment applications (games mostly) in the Apple Store are far more popular than any others.\n",
    "\n",
    "\n",
    "##### Google Play\n",
    "\n",
    "`'Category'`:\n",
    "1. The most popular category here is 'Family' with \\~19%. The nearest follower is the 'Games' category with \\~10%.\n",
    "2. However, in the top 10 categories, we see that only 3 categories are about entertainment.\n",
    "\n",
    "`'Genres'`:\n",
    "1. The most popular genre is 'Tools' with \\~8%, following by 'Entertainment' with \\~6%.\n",
    "2. In the top 10, we see the same pattern - only 3 entertainment categories.\n",
    "3. The games have a big number of genres and each of them keep from \\~0.01% to \\~3%\n",
    "\n",
    "##### Outcomes\n",
    "\n",
    "The general trend from the results above is that entertainment applications (the games mostly) keep the biggest market share."
   ]
  },
  {
   "cell_type": "markdown",
   "metadata": {},
   "source": [
    "## 3.3 Popularity of the genres"
   ]
  },
  {
   "cell_type": "markdown",
   "metadata": {},
   "source": [
    "Let's create frequency tables for iOS genres and Android categories:"
   ]
  },
  {
   "cell_type": "code",
   "execution_count": 110,
   "metadata": {},
   "outputs": [],
   "source": [
    "android_category_freq = freq_table(android_free, 1)\n",
    "ios_genre_freq = freq_table(ios_free, 11)"
   ]
  },
  {
   "cell_type": "markdown",
   "metadata": {},
   "source": [
    "Let's find an average number of installs for each of the Android categories:"
   ]
  },
  {
   "cell_type": "code",
   "execution_count": 127,
   "metadata": {
    "scrolled": true
   },
   "outputs": [
    {
     "name": "stdout",
     "output_type": "stream",
     "text": [
      "COMMUNICATION : 38456119.167247385\n",
      "VIDEO_PLAYERS : 24727872.452830188\n",
      "SOCIAL : 23253652.127118643\n",
      "PHOTOGRAPHY : 17840110.40229885\n",
      "PRODUCTIVITY : 16787331.344927534\n",
      "GAME : 15588015.603248259\n",
      "TRAVEL_AND_LOCAL : 13984077.710144928\n",
      "ENTERTAINMENT : 11640705.88235294\n",
      "TOOLS : 10801391.298666667\n",
      "NEWS_AND_MAGAZINES : 9549178.467741935\n",
      "BOOKS_AND_REFERENCE : 8767811.894736841\n",
      "SHOPPING : 7036877.311557789\n",
      "PERSONALIZATION : 5201482.6122448975\n",
      "WEATHER : 5074486.197183099\n",
      "HEALTH_AND_FITNESS : 4188821.9853479853\n",
      "MAPS_AND_NAVIGATION : 4056941.7741935486\n",
      "FAMILY : 3695641.8198090694\n",
      "SPORTS : 3638640.1428571427\n",
      "ART_AND_DESIGN : 1986335.0877192982\n",
      "FOOD_AND_DRINK : 1924897.7363636363\n",
      "EDUCATION : 1833495.145631068\n",
      "BUSINESS : 1712290.1474201474\n",
      "LIFESTYLE : 1437816.2687861272\n",
      "FINANCE : 1387692.475609756\n",
      "HOUSE_AND_HOME : 1331540.5616438356\n",
      "DATING : 854028.8303030303\n",
      "COMICS : 817657.2727272727\n",
      "AUTO_AND_VEHICLES : 647317.8170731707\n",
      "LIBRARIES_AND_DEMO : 638503.734939759\n",
      "PARENTING : 542603.6206896552\n",
      "BEAUTY : 513151.88679245283\n",
      "EVENTS : 253542.22222222222\n",
      "MEDICAL : 120550.61980830671\n"
     ]
    }
   ],
   "source": [
    "android_category_installs = {}\n",
    "\n",
    "for category in android_category_freq:\n",
    "    total = 0\n",
    "    len_category = 0\n",
    "    for row in android_free:\n",
    "        category_app = row[1]\n",
    "        if category_app == category:\n",
    "            installs_num = row[5]\n",
    "            installs_num = installs_num.replace('+', '')\n",
    "            installs_num = installs_num.replace(',', '')\n",
    "            total += int(installs_num)\n",
    "            len_category += 1\n",
    "    avg_num_installs = total / len_category\n",
    "    android_category_installs[category] = avg_num_installs\n",
    "\n",
    "display_table(android_category_installs)"
   ]
  },
  {
   "cell_type": "markdown",
   "metadata": {},
   "source": [
    "The iOS dataset doesn't have a number of installations, so I decided to figure out this value from a column with a number of users' ratings (`rating_count_tot`).\n",
    "So, let's find an average number of users' ratings for each of the genres:"
   ]
  },
  {
   "cell_type": "code",
   "execution_count": 126,
   "metadata": {
    "scrolled": true
   },
   "outputs": [
    {
     "name": "stdout",
     "output_type": "stream",
     "text": [
      "Navigation : 86090.33333333333\n",
      "Reference : 74942.11111111111\n",
      "Social Networking : 71548.34905660378\n",
      "Music : 57326.530303030304\n",
      "Weather : 52279.892857142855\n",
      "Book : 39758.5\n",
      "Food & Drink : 33333.92307692308\n",
      "Finance : 31467.944444444445\n",
      "Photo & Video : 28441.54375\n",
      "Travel : 28243.8\n",
      "Shopping : 26919.690476190477\n",
      "Health & Fitness : 23298.015384615384\n",
      "Sports : 23008.898550724636\n",
      "Games : 22788.6696905016\n",
      "News : 21248.023255813954\n",
      "Productivity : 21028.410714285714\n",
      "Utilities : 18684.456790123455\n",
      "Lifestyle : 16485.764705882353\n",
      "Entertainment : 14029.830708661417\n",
      "Business : 7491.117647058823\n",
      "Education : 7003.983050847458\n",
      "Catalogs : 4004.0\n",
      "Medical : 612.0\n"
     ]
    }
   ],
   "source": [
    "ios_genre_user_rat = {}\n",
    "\n",
    "for genre in ios_genre_freq:\n",
    "    total = 0\n",
    "    len_genre = 0\n",
    "    for row in ios_free:\n",
    "        genre_app = row[11]\n",
    "        if genre_app == genre:\n",
    "            user_ratings_number = float(row[5])\n",
    "            total += user_ratings_number\n",
    "            len_genre += 1\n",
    "    avg_num_user_rating = total / len_genre\n",
    "    ios_genre_user_rat[genre] = avg_num_user_rating\n",
    "    \n",
    "display_table(ios_genre_user_rat)"
   ]
  },
  {
   "cell_type": "markdown",
   "metadata": {},
   "source": [
    "I'm not quite sure what stands behind `COMMUNICATION` category, so let's find out:"
   ]
  },
  {
   "cell_type": "code",
   "execution_count": 149,
   "metadata": {},
   "outputs": [
    {
     "name": "stdout",
     "output_type": "stream",
     "text": [
      "WhatsApp Messenger : 1000000000\n",
      "Skype - free IM & video calls : 1000000000\n",
      "Messenger – Text and Video Chat for Free : 1000000000\n",
      "Hangouts : 1000000000\n",
      "Google Chrome: Fast & Secure : 1000000000\n",
      "Gmail : 1000000000\n",
      "imo free video calls and chat : 500000000\n",
      "Viber Messenger : 500000000\n",
      "UC Browser - Fast Download Private & Secure : 500000000\n",
      "LINE: Free Calls & Messages : 500000000\n",
      "Google Duo - High Quality Video Calls : 500000000\n",
      "imo beta free calls and text : 100000000\n",
      "Yahoo Mail – Stay Organized : 100000000\n",
      "Who : 100000000\n",
      "WeChat : 100000000\n",
      "UC Browser Mini -Tiny Fast Private & Secure : 100000000\n",
      "Truecaller: Caller ID, SMS spam blocking & Dialer : 100000000\n",
      "Telegram : 100000000\n",
      "Opera Mini - fast web browser : 100000000\n",
      "Opera Browser: Fast and Secure : 100000000\n",
      "Messenger Lite: Free Calls & Messages : 100000000\n",
      "Kik : 100000000\n",
      "KakaoTalk: Free Calls & Text : 100000000\n",
      "GO SMS Pro - Messenger, Free Themes, Emoji : 100000000\n",
      "Firefox Browser fast & private : 100000000\n",
      "BBM - Free Calls & Messages : 100000000\n",
      "Android Messages : 100000000\n",
      "free video calls and chat : 50000000\n",
      "Zalo – Video Call : 50000000\n",
      "Mail.Ru - Email App : 50000000\n",
      "Dolphin Browser - Fast, Private & Adblock🐬 : 50000000\n",
      "Contacts : 50000000\n",
      "CM Browser - Ad Blocker , Fast Download , Privacy : 50000000\n",
      "Azar : 50000000\n",
      "myMail – Email for Hotmail, Gmail and Outlook Mail : 10000000\n",
      "chomp SMS : 10000000\n",
      "ZenUI Dialer & Contacts : 10000000\n",
      "Xperia Link™ : 10000000\n",
      "Whoscall - Caller ID & Block : 10000000\n",
      "WhatsCall Free Global Phone Call App & Cheap Calls : 10000000\n",
      "WhatsApp Business : 10000000\n",
      "WEB.DE Mail : 10000000\n",
      "Voxer Walkie Talkie Messenger : 10000000\n",
      "TouchPal Keyboard - Fun Emoji & Android Keyboard : 10000000\n",
      "Text SMS : 10000000\n",
      "Talkray - Free Calls & Texts : 10000000\n",
      "Talkatone: Free Texts, Calls & Phone Number : 10000000\n",
      "Puffin Web Browser : 10000000\n",
      "Psiphon Pro - The Internet Freedom VPN : 10000000\n",
      "Portable Wi-Fi hotspot : 10000000\n",
      "Orfox: Tor Browser for Android : 10000000\n",
      "Opera Mini browser beta : 10000000\n",
      "Omlet Chat : 10000000\n",
      "Mr. Number-Block calls & spam : 10000000\n",
      "Messenger for SMS : 10000000\n",
      "MegaFon Dashboard : 10000000\n",
      "ICQ — Video Calls & Chat Messenger : 10000000\n",
      "Hiya - Caller ID & Block : 10000000\n",
      "Hangouts Dialer - Call Phones : 10000000\n",
      "GroupMe : 10000000\n",
      "Google Voice : 10000000\n",
      "Google Allo : 10000000\n",
      "Glide - Video Chat Messenger : 10000000\n",
      "GO Notifier : 10000000\n",
      "GMX Mail : 10000000\n",
      "Free WiFi Connect : 10000000\n",
      "Free Adblocker Browser - Adblock & Popup Blocker : 10000000\n",
      "ExDialer - Dialer & Contacts : 10000000\n",
      "Discord - Chat for Gamers : 10000000\n",
      "DU Browser—Browse fast & fun : 10000000\n",
      "Cricket Visual Voicemail : 10000000\n",
      "Contacts+ : 10000000\n",
      "Calls Blacklist - Call Blocker : 10000000\n",
      "CallApp: Caller ID, Blocker & Phone Call Recorder : 10000000\n",
      "Browser 4G : 10000000\n",
      "Adblock Browser for Android : 10000000\n",
      "AT&T Visual Voicemail : 10000000\n",
      "Your Freedom VPN Client : 5000000\n",
      "Web Browser & Explorer : 5000000\n",
      "Sync.ME – Caller ID & Block : 5000000\n",
      "Skype Lite - Free Video Call & Chat : 5000000\n",
      "My Vodacom SA : 5000000\n",
      "My Tele2 : 5000000\n",
      "Microsoft Edge : 5000000\n",
      "K-9 Mail : 5000000\n",
      "JusTalk - Free Video Calls and Fun Video Chat : 5000000\n",
      "Full Screen Caller ID : 5000000\n",
      "Ear Agent: Super Hearing : 5000000\n",
      "Daum Mail - Next Mail : 5000000\n",
      "Chrome Dev : 5000000\n",
      "Calls & Text by Mo+ : 5000000\n",
      "Caller ID & Call Block - DU Caller : 5000000\n",
      "Call Free – Free Call : 5000000\n",
      "Call Control - Call Blocker : 5000000\n",
      "CM Transfer - Share any files with friends nearby : 5000000\n",
      "CIA - Caller ID & Call Blocker : 5000000\n",
      "Brave Browser: Fast AdBlocker : 5000000\n",
      "Bluetooth Auto Connect : 5000000\n",
      "AT&T Call Protect : 5000000\n",
      "mysms SMS Text Messaging Sync : 1000000\n",
      "mail.com mail : 1000000\n",
      "Wi-Fi Auto-connect : 1000000\n",
      "Web Browser for Android : 1000000\n",
      "WeFi - Free Fast WiFi Connect & Find Wi-Fi Map : 1000000\n",
      "Vonage Mobile® Call Video Text : 1000000\n",
      "Virtual Walkie Talkie : 1000000\n",
      "Video Caller Id : 1000000\n",
      "True Contact - Real Caller ID : 1000000\n",
      "TracFone My Account : 1000000\n",
      "Tiny Call Confirm : 1000000\n",
      "Should I Answer? : 1000000\n",
      "Seznam.cz : 1000000\n",
      "Safest Call Blocker : 1000000\n",
      "SW-100.tch by Callstel : 1000000\n",
      "RocketDial Dialer & Contacts : 1000000\n",
      "PHONE for Google Voice & GTalk : 1000000\n",
      "Ninesky Browser : 1000000\n",
      "Newton Mail - Email App for Gmail, Outlook, IMAP : 1000000\n",
      "My magenta : 1000000\n",
      "My Vodafone (GR) : 1000000\n",
      "Messaging+ SMS, MMS Free : 1000000\n",
      "Lite for Facebook Messenger : 1000000\n",
      "InBrowser - Incognito Browsing : 1000000\n",
      "Ghostery Privacy Browser : 1000000\n",
      "Firefox Focus: The privacy browser : 1000000\n",
      "Email TypeApp - Mail App : 1000000\n",
      "DW Contacts & Phone & Dialer : 1000000\n",
      "ClanPlay: Community and Tools for Gamers : 1000000\n",
      "Caller ID + : 1000000\n",
      "Call Blocker - Blacklist, SMS Blocker : 1000000\n",
      "CB Radio Chat - for friends! : 1000000\n",
      "Burner - Free Phone Number : 1000000\n",
      "BBMoji - Your personalized BBM Stickers : 1000000\n",
      "AntennaPict β : 1000000\n",
      "All Email Providers : 1000000\n",
      "Adblock Plus for Samsung Internet - Browse safe. : 1000000\n",
      "AW - free video calls and chat : 1000000\n",
      "AT&T Messages for Tablet : 1000000\n",
      "2ndLine - Second Phone Number : 1000000\n",
      "Web Browser : 500000\n",
      "U - Webinars, Meetings & Messenger : 500000\n",
      "TownWiFi | Wi-Fi Everywhere : 500000\n",
      "Talkie - Wi-Fi Calling, Chats, File Sharing : 500000\n",
      "SolMail - All-in-One email app : 500000\n",
      "LokLok: Draw on a Lock Screen : 500000\n",
      "Lightning Web Browser : 500000\n",
      "FreedomPop Messaging Phone/SIM : 500000\n",
      "BD Data Plan (3G & 4G) : 500000\n",
      "WiFi Access Point (hotspot) : 100000\n",
      "T-Mobile DIGITS : 100000\n",
      "QRZ Assistant : 100000\n",
      "Portable Wi-Fi hotspot Free : 100000\n",
      "PlacarTv Futebol Ao Vivo : 100000\n",
      "Morse Code Reader : 100000\n",
      "M star Dialer : 100000\n",
      "K-@ Mail - Email App : 100000\n",
      "Goodbox - Mega App : 100000\n",
      "Everbridge : 100000\n",
      "Channel 19 : 100000\n",
      "CB On Mobile : 100000\n",
      "Baby Monitor AV : 100000\n",
      "BT MeetMe with Dolby Voice : 100000\n",
      "Antillean Gold Telegram (original version) : 100000\n",
      "AZ Browser. Private & Download : 100000\n",
      "X Browser : 50000\n",
      "N-Com Wizard : 50000\n",
      "My BF App : 50000\n",
      "IZ2UUF Morse Koch CW : 50000\n",
      "HipChat - beta version : 50000\n",
      "Free Wi-fi HotspoT : 50000\n",
      "BT Messenger : 50000\n",
      "BD Internet Packages (Updated) : 50000\n",
      "AudioBT: BT audio GPS/SMS/Text : 50000\n",
      "3G DZ Configuration : 50000\n",
      "m:go BiH : 10000\n",
      "[verify-U] VideoIdent : 10000\n",
      "Ring : 10000\n",
      "Pocket Prefix Plus : 10000\n",
      "Mail1Click - Secure Mail : 10000\n",
      "Jazz Wi-Fi : 10000\n",
      "Inbox.eu : 10000\n",
      "Ham Radio Prefixes : 10000\n",
      "Feel Performer : 10000\n",
      "Eg Call : 10000\n",
      "EZ Wifi Notification : 10000\n",
      "Deaf World DW : 10000\n",
      "DMR BrandMeister Tool : 10000\n",
      "ClanHQ : 10000\n",
      "BT One Phone Mobile App : 10000\n",
      "BF Browser by Betfilter - Stop Gambling Today! : 10000\n",
      "BD Dialer : 10000\n",
      "Ad Blocker Turbo - Adblocker Browser : 10000\n",
      "Access Point Names : 10000\n",
      "/u/app : 10000\n",
      "retteMi.ch : 5000\n",
      "mail.co.uk Mail : 5000\n",
      "love sms good morning : 5000\n",
      "Sat-Fi : 5000\n",
      "Mircules DX Cluster Lite : 5000\n",
      "Learn Morse Code - G0HYN Learn Morse : 5000\n",
      "K-9 Material (unofficial) : 5000\n",
      "Ham DX Cluster & Spots Finder : 5000\n",
      "DM for WhatsApp : 5000\n",
      "DM Talk New : 5000\n",
      "Council Voting Calculator : 5000\n",
      "CS Browser Beta : 5000\n",
      "BT One Voice mobile access : 5000\n",
      "BD Live Call : 5000\n",
      "AK Phone : 5000\n",
      "AG Contacts, Lite edition : 5000\n",
      "cluster.dk : 1000\n",
      "Sat-Fi Voice : 1000\n",
      "SMS Sender - sluzba.cz : 1000\n",
      "ReadyOp DT : 1000\n",
      "FO AIRBUS TLSE : 1000\n",
      "FC Browser - Focus Privacy Browser : 1000\n",
      "EU Council : 1000\n",
      "DM Tracker : 1000\n",
      "Call Blocker & Blacklist : 1000\n",
      "CS Customizer : 1000\n",
      "CS Browser | #1 & BEST BROWSER : 1000\n",
      "CQ-Mobile : 1000\n",
      "BlueDV AMBE : 1000\n",
      "BQ Partners : 1000\n",
      "BN MALLORCA Radio : 1000\n",
      "BK Chat : 1000\n",
      "BH Mail : 1000\n",
      "AV Phone : 1000\n",
      "AU Call Blocker - Block Unwanted Calls Texts 2018 : 1000\n",
      "Traffic signs BD : 500\n",
      "Rádio Sol Nascente DF : 500\n",
      "Have your say on Europe : 500\n",
      "ES-1 : 500\n",
      "CW BLE Peripheral Simulator : 500\n",
      "CQ-Alert : 500\n",
      "Best Auto Call Recorder Free : 500\n",
      "ATC Unico BS : 500\n",
      "tournaments and more.aj.2 : 100\n",
      "chat dz : 100\n",
      "[EF]ShoutBox : 100\n",
      "Programi podrške EU : 100\n",
      "MARKET FO : 100\n",
      "Katalogen.ax : 100\n",
      "FP Connect : 100\n",
      "FO STELIA Méaulte : 100\n",
      "FO SODEXO : 100\n",
      "FO RCBT : 100\n",
      "FO PSA Sept-Fons : 100\n",
      "FO OP St-Nazaire : 100\n",
      "FO Interim : 100\n",
      "FO AIRBUS Nantes : 100\n",
      "EP RSS Reader : 100\n",
      "EHiN-FH conferenceapp : 100\n",
      "DG Card : 100\n",
      "Cy Messenger : 100\n",
      "Carpooling FH Hagenberg : 100\n",
      "CW Bluetooth SPP : 100\n",
      "CJ DVD Rentals : 100\n",
      "CJ Browser - Fast & Private : 100\n",
      "CF Chat: Connecting Friends : 100\n",
      "C W Browser : 100\n",
      "Bee'ah Employee App : 100\n",
      "BV : 100\n",
      "Amadeus GR & CY : 100\n",
      "Aj.Petra : 100\n",
      "Hyundai CX Conference : 50\n",
      "DK TEL Dialer : 50\n",
      "Cb browser : 50\n",
      "BS-Mobile : 50\n",
      "AC-BL : 50\n",
      "ei : 10\n",
      "Oklahoma Ag Co-op Council : 10\n",
      "Hlášenírozhlasu.cz : 10\n",
      "FP Live : 10\n",
      "FNH Payment Info : 10\n",
      "FN Web Radio : 10\n",
      "Ek IRA : 10\n",
      "EO Mumbai : 10\n",
      "EJ messenger : 10\n",
      "DM - The Offical Messaging App : 10\n",
      "DK Browser : 10\n",
      "CK Call NEW : 10\n",
      "Best Browser BD social networking : 10\n",
      "BJ - Confidential : 10\n",
      "Test Server SMS FA : 5\n",
      "Of the wall Arapaho bk : 5\n",
      "BA SALES : 1\n"
     ]
    }
   ],
   "source": [
    "def android_category_installs(category_name):\n",
    "    android_app_installs = {}\n",
    "    for row in android_free:\n",
    "        category = row[1]\n",
    "        name = row[0]\n",
    "        installs_num = row[5]\n",
    "        installs_num = installs_num.replace('+', '')\n",
    "        installs_num = installs_num.replace(',', '')\n",
    "        installs_num = int(installs_num)\n",
    "        if category == category_name:\n",
    "            android_app_installs[name] = installs_num   \n",
    "    return android_app_installs\n",
    "\n",
    "android_category_communication = android_category_installs('COMMUNICATION')\n",
    "display_table(android_category_communication)"
   ]
  },
  {
   "cell_type": "code",
   "execution_count": 145,
   "metadata": {
    "scrolled": true
   },
   "outputs": [
    {
     "name": "stdout",
     "output_type": "stream",
     "text": [
      "['310633997', 'WhatsApp Messenger', '135044096', 'USD', '0.0', '287589', '73088', '4.5', '4.5', '2.17.22', '4+', 'Social Networking', '12', '0', '35', '1']\n"
     ]
    }
   ],
   "source": [
    "for row in ios_free:\n",
    "    if row[1] == 'WhatsApp Messenger':\n",
    "        print(row)"
   ]
  },
  {
   "cell_type": "markdown",
   "metadata": {},
   "source": [
    "So we figure out that Android apps from `COMMUNICATION` category in iOS are put under `Social Networking` mostly.\n",
    "\n",
    "Overall, I found some similarities in the top 10s:\n",
    "- Android (`VIDEO_PLAYERS`, `PHOTOGRAPHY`) and iOS (`Photo & Video`)\n",
    "- Android (`SOCIAL`, `COMMUNICATION`) and iOS (`Social Networking`)\n",
    "- Android (`TRAVEL_AND_LOCAL`) and iOS (`Travel`)"
   ]
  },
  {
   "cell_type": "markdown",
   "metadata": {},
   "source": [
    "## 4. Conclusion"
   ]
  },
  {
   "cell_type": "markdown",
   "metadata": {},
   "source": [
    "For now, I'd recommend focusing on these three groups.\n",
    "\n",
    "Recommendations for further analysis:\n",
    "- Look deeply into each category, perhaps there are apps behind which giant corporations stand, who we don't want to fight with.\n",
    "- Clean the datasets more, for example, from very popular and very unpopular applications and look at new leaders.\n",
    "- Look for applications that combine several features from the found groups."
   ]
  }
 ],
 "metadata": {
  "kernelspec": {
   "display_name": "Python 3",
   "language": "python",
   "name": "python3"
  },
  "language_info": {
   "codemirror_mode": {
    "name": "ipython",
    "version": 3
   },
   "file_extension": ".py",
   "mimetype": "text/x-python",
   "name": "python",
   "nbconvert_exporter": "python",
   "pygments_lexer": "ipython3",
   "version": "3.7.4"
  }
 },
 "nbformat": 4,
 "nbformat_minor": 4
}
